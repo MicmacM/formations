{
 "cells": [
  {
   "cell_type": "markdown",
   "metadata": {
    "id": "D3H384nl2PQx"
   },
   "source": [
    "<center><img src=https://automatants.cs-campus.fr/images/logo_mini.png width=\"150\">\n"
   ]
  },
  {
   "cell_type": "markdown",
   "metadata": {
    "id": "fp9IXMhq2YE0"
   },
   "source": [
    "# TP Réseaux de Neurones"
   ]
  },
  {
   "cell_type": "markdown",
   "metadata": {
    "id": "Hewxts832vzu"
   },
   "source": [
    "La formation théorique c'est bien rigolo, mais maintenant à vous de jouer ! Aujourd'hui on crée notre première IA de nos mains qui va détecter des chiffres manuscrits !"
   ]
  },
  {
   "cell_type": "markdown",
   "metadata": {
    "id": "MC0IoxdH3Te4"
   },
   "source": [
    "**Si vous bloquez sur la moindre chose, n'hésitez pas à faire appel à nous, on est là pour ça**\n",
    "\n",
    "**PS : tout le texte précédé d'un \"#\" correspond à une case à compléter/modifier**"
   ]
  },
  {
   "cell_type": "markdown",
   "metadata": {
    "id": "XSsxF1SV3pRf"
   },
   "source": [
    "##Import des librairies"
   ]
  },
  {
   "cell_type": "markdown",
   "metadata": {
    "id": "yPAITYx13vSB"
   },
   "source": [
    "Commençons par importer numpy, matplotlib.pyplot, torch, torch.nn (qu'on nommera nn) et torchvision"
   ]
  },
  {
   "cell_type": "code",
   "execution_count": 5,
   "metadata": {
    "id": "HEyS0mw54SqH"
   },
   "outputs": [],
   "source": [
    "import numpy as np\n",
    "import matplotlib.pyplot as plt\n",
    "import torch\n",
    "import torch.nn as nn\n",
    "import torchvision\n"
   ]
  },
  {
   "cell_type": "markdown",
   "metadata": {
    "id": "KAlHiyUQ4V2p"
   },
   "source": [
    "##Téléchargement du Dataset"
   ]
  },
  {
   "cell_type": "markdown",
   "metadata": {
    "id": "TQSOXQ7G4bWO"
   },
   "source": [
    "Le premier dataset sur lequel on va entraîner un réseau de neurones est MNIST. Ce sont 60 000 images de chiffres de 0 à 9 en noir et blanc avec leur catégorie/label associé. Elles sont de taille 28x28 et de pixels à valeurs dans [0,255]."
   ]
  },
  {
   "cell_type": "markdown",
   "metadata": {
    "id": "QseWqBMh4i1-"
   },
   "source": [
    "<center><img src=https://production-media.paperswithcode.com/datasets/MNIST-0000000001-2e09631a_09liOmx.jpg width=\"300\">"
   ]
  },
  {
   "cell_type": "markdown",
   "metadata": {
    "id": "IabzWwa25I0b"
   },
   "source": [
    "Le code pour télécharger le dataser est déjà fourni. Les images sont normalisées entre 0 et 1 pour votre plus grand plaisir. Il suffit d'exécuter le code fourni"
   ]
  },
  {
   "cell_type": "code",
   "execution_count": 6,
   "metadata": {
    "id": "LWnGU9bx5GlP"
   },
   "outputs": [
    {
     "name": "stdout",
     "output_type": "stream",
     "text": [
      "Downloading http://yann.lecun.com/exdb/mnist/train-images-idx3-ubyte.gz\n",
      "Failed to download (trying next):\n",
      "HTTP Error 403: Forbidden\n",
      "\n",
      "Downloading https://ossci-datasets.s3.amazonaws.com/mnist/train-images-idx3-ubyte.gz\n",
      "Downloading https://ossci-datasets.s3.amazonaws.com/mnist/train-images-idx3-ubyte.gz to MNIST/raw/train-images-idx3-ubyte.gz\n"
     ]
    },
    {
     "name": "stderr",
     "output_type": "stream",
     "text": [
      "100.0%\n"
     ]
    },
    {
     "name": "stdout",
     "output_type": "stream",
     "text": [
      "Extracting MNIST/raw/train-images-idx3-ubyte.gz to MNIST/raw\n",
      "\n",
      "Downloading http://yann.lecun.com/exdb/mnist/train-labels-idx1-ubyte.gz\n",
      "Failed to download (trying next):\n",
      "HTTP Error 403: Forbidden\n",
      "\n",
      "Downloading https://ossci-datasets.s3.amazonaws.com/mnist/train-labels-idx1-ubyte.gz\n",
      "Downloading https://ossci-datasets.s3.amazonaws.com/mnist/train-labels-idx1-ubyte.gz to MNIST/raw/train-labels-idx1-ubyte.gz\n"
     ]
    },
    {
     "name": "stderr",
     "output_type": "stream",
     "text": [
      "100.0%\n"
     ]
    },
    {
     "name": "stdout",
     "output_type": "stream",
     "text": [
      "Extracting MNIST/raw/train-labels-idx1-ubyte.gz to MNIST/raw\n",
      "\n",
      "Downloading http://yann.lecun.com/exdb/mnist/t10k-images-idx3-ubyte.gz\n",
      "Failed to download (trying next):\n",
      "HTTP Error 403: Forbidden\n",
      "\n",
      "Downloading https://ossci-datasets.s3.amazonaws.com/mnist/t10k-images-idx3-ubyte.gz\n",
      "Downloading https://ossci-datasets.s3.amazonaws.com/mnist/t10k-images-idx3-ubyte.gz to MNIST/raw/t10k-images-idx3-ubyte.gz\n"
     ]
    },
    {
     "name": "stderr",
     "output_type": "stream",
     "text": [
      "100.0%\n"
     ]
    },
    {
     "name": "stdout",
     "output_type": "stream",
     "text": [
      "Extracting MNIST/raw/t10k-images-idx3-ubyte.gz to MNIST/raw\n",
      "\n",
      "Downloading http://yann.lecun.com/exdb/mnist/t10k-labels-idx1-ubyte.gz\n",
      "Failed to download (trying next):\n",
      "HTTP Error 403: Forbidden\n",
      "\n",
      "Downloading https://ossci-datasets.s3.amazonaws.com/mnist/t10k-labels-idx1-ubyte.gz\n",
      "Downloading https://ossci-datasets.s3.amazonaws.com/mnist/t10k-labels-idx1-ubyte.gz to MNIST/raw/t10k-labels-idx1-ubyte.gz\n"
     ]
    },
    {
     "name": "stderr",
     "output_type": "stream",
     "text": [
      "100.0%\n"
     ]
    },
    {
     "name": "stdout",
     "output_type": "stream",
     "text": [
      "Extracting MNIST/raw/t10k-labels-idx1-ubyte.gz to MNIST/raw\n",
      "\n",
      "Donwloaded Mnist Dataset\n",
      "Dataset size :  60000\n",
      "Training using 48000 examples\n",
      "Testing using 12000 examples\n"
     ]
    }
   ],
   "source": [
    "### Load dataset\n",
    "dataloader = torchvision.datasets.MNIST(root = \"\", download=True)\n",
    "train_size = len(dataloader) * 0.8\n",
    "\n",
    "X = np.empty((len(dataloader), 28,28))\n",
    "Y = np.empty(len(dataloader))\n",
    "\n",
    "for i, (image, label) in enumerate(dataloader):\n",
    "    X[i] = image\n",
    "    Y[i] = label\n",
    "\n",
    "X = X / 255\n",
    "\n",
    "X_train = X[:int(train_size)]\n",
    "Y_train = Y[:int(train_size)]\n",
    "\n",
    "X_test = X[int(train_size):]\n",
    "Y_test = Y[int(train_size):]\n",
    "\n",
    "print(\"Donwloaded Mnist Dataset\")\n",
    "print(\"Dataset size : \", len(dataloader))\n",
    "print(f\"Training using {len(X_train)} examples\")\n",
    "print(f\"Testing using {len(X_test)} examples\")"
   ]
  },
  {
   "cell_type": "markdown",
   "metadata": {
    "id": "ClGwdm3E5NZc"
   },
   "source": [
    "Affichons quelques images du Dataset pour y voir plus clair"
   ]
  },
  {
   "cell_type": "code",
   "execution_count": 7,
   "metadata": {
    "id": "pFZxUc555Sy_"
   },
   "outputs": [
    {
     "data": {
      "image/png": "[encoded data removed]",
      "text/plain": [
       "<Figure size 1000x1000 with 25 Axes>"
      ]
     },
     "metadata": {},
     "output_type": "display_data"
    }
   ],
   "source": [
    "### Display data\n",
    "plt.figure(figsize=(10,10))\n",
    "for i in range(25):\n",
    "    plt.subplot(5,5,i+1)\n",
    "    plt.xticks([])\n",
    "    plt.yticks([])\n",
    "    plt.grid(False)\n",
    "    plt.imshow(X_train[i], cmap=plt.cm.binary)\n",
    "    plt.xlabel(Y_train[i])"
   ]
  },
  {
   "cell_type": "markdown",
   "metadata": {
    "id": "-39UomPv5Wkd"
   },
   "source": [
    "Au final qu'avons nous devons nous ? On a à disposition `X_train`, `Y_train`, `X_test`, `Y_test`\n",
    "Commençons par `X_train` et `X_test`"
   ]
  },
  {
   "cell_type": "code",
   "execution_count": 8,
   "metadata": {
    "id": "Vt5RgAI35sDt"
   },
   "outputs": [
    {
     "data": {
      "text/plain": [
       "((48000, 28, 28), (12000, 28, 28))"
      ]
     },
     "execution_count": 8,
     "metadata": {},
     "output_type": "execute_result"
    }
   ],
   "source": [
    "X_train.shape, X_test.shape"
   ]
  },
  {
   "cell_type": "markdown",
   "metadata": {
    "id": "a58ZwdIm5ulQ"
   },
   "source": [
    "Ce qu'on peut remarquer ce que `X_train` contient 48000 examples d'images de taile 28x28\n",
    "`X_train` contient 1200 images de la même taille"
   ]
  },
  {
   "cell_type": "code",
   "execution_count": 9,
   "metadata": {
    "id": "oOLWVys_51hf"
   },
   "outputs": [
    {
     "data": {
      "text/plain": [
       "((48000,), (12000,))"
      ]
     },
     "execution_count": 9,
     "metadata": {},
     "output_type": "execute_result"
    }
   ],
   "source": [
    "Y_train.shape, Y_test.shape"
   ]
  },
  {
   "cell_type": "markdown",
   "metadata": {
    "id": "1ffsduRr58AZ"
   },
   "source": [
    "Pour `Y_train` et `Y_test`, nous avons pareil 48000 et 12000 examples mais cette fois on a juste des entiers, cela correspond aux labels. Gardez ça en tête !\n"
   ]
  },
  {
   "cell_type": "markdown",
   "metadata": {
    "id": "gy9Uagqw6CCZ"
   },
   "source": [
    "##Le Réseau de Neurones"
   ]
  },
  {
   "cell_type": "markdown",
   "metadata": {
    "id": "u214e6pD6H5b"
   },
   "source": [
    "Nous pouvons maintenant commencer le TP ! Comme abordé lors de la première formation, nous allons utiliser les réseaux des neuronnes.\n",
    "\n",
    "Pour cela, nous allons procéder en 4  étapes :  :\n",
    "- On va d'abord définir notre réseau\n",
    "- Puis définir une fonction de perte et une métode d'optimization\n",
    "- Ensuite on pourra lancer l'entrainement,\n",
    "- A la fin, on pourra évaluer notre modèle\n"
   ]
  },
  {
   "cell_type": "markdown",
   "metadata": {
    "id": "iIb2GXQ66ewS"
   },
   "source": [
    "### Définition du modèle\n",
    "\n",
    "Nous allons utiliser le module ```Sequential```  de Pytorch. Vous pouvez trouver des informations utiles dans la documentation de Pytorch : https://pytorch.org/docs/stable/generated/torch.nn.Sequential.html\n",
    "\n",
    "Essayons d'utiliser le couches ```nn.Linear``` et ```nn.ReLU``` pour reproduire le réseau que nous avons présenté lors de la formation ! N'oubliez pas d'ajouter la softmax à la fin !\n"
   ]
  },
  {
   "cell_type": "code",
   "execution_count": 14,
   "metadata": {
    "id": "jHLXIog763fR"
   },
   "outputs": [],
   "source": [
    "#### Celulle à compléter ####\n",
    "### Compléter la commande avec le réseau qu'on a vu pendant la formation\n",
    "\n",
    "model = nn.Sequential(\n",
    "    nn.Linear(28*28,16),\n",
    "    nn.ReLU(),\n",
    "    nn.Linear(16,16),\n",
    "    nn.ReLU(),\n",
    "    nn.Linear(16,10),\n",
    "    nn.Softmax(1)\n",
    ")"
   ]
  },
  {
   "cell_type": "markdown",
   "metadata": {
    "id": "FHB17Rw5662X"
   },
   "source": [
    "Pour un petit résumé de notre modèle, appelons le"
   ]
  },
  {
   "cell_type": "code",
   "execution_count": 15,
   "metadata": {
    "id": "tjf2xpfG6_AF"
   },
   "outputs": [
    {
     "data": {
      "text/plain": [
       "Sequential(\n",
       "  (0): Linear(in_features=784, out_features=16, bias=True)\n",
       "  (1): ReLU()\n",
       "  (2): Linear(in_features=16, out_features=16, bias=True)\n",
       "  (3): ReLU()\n",
       "  (4): Linear(in_features=16, out_features=10, bias=True)\n",
       "  (5): Softmax(dim=1)\n",
       ")"
      ]
     },
     "execution_count": 15,
     "metadata": {},
     "output_type": "execute_result"
    }
   ],
   "source": [
    "model"
   ]
  },
  {
   "cell_type": "markdown",
   "metadata": {
    "id": "IJt63efJ7Be3"
   },
   "source": [
    "### Définition de la fonction de perte et de l'optimizer\n",
    "\n",
    "On va utiliser la function `MSELoss` et le optimizer `Adam` (vous pouvez trouver de la documentation ici :https://pytorch.org/docs/stable/optim.html ):"
   ]
  },
  {
   "cell_type": "code",
   "execution_count": 16,
   "metadata": {
    "id": "5cXr0k0H7KSn"
   },
   "outputs": [],
   "source": [
    "#### Celulle à compléter ####\n",
    "\n",
    "loss_function = nn.MSELoss()\n",
    "optimizer = torch.optim.Adam(model.parameters())"
   ]
  },
  {
   "cell_type": "markdown",
   "metadata": {
    "id": "fJy-gIar7S7Z"
   },
   "source": [
    "###Entraînement : préparation\n",
    "\n",
    "Avant de lancer la boucle d'entraînement, il faut préparer un peu le terrain :\n",
    "\n",
    "Rappelez vous que tout d'abord, il fallait \"flatten\" nos images d'entrée de 28*28 à un gros vecteur de taille 784\n",
    "\n",
    "Ensuite, vous pouvez remarquer que les labels que nous avons à notre disposition ne sont pas dans le bon format ! Notre réseau sort un vecteur de probbilités, tandis que les labels dans Y_train sont des entiers. Il faut donc transformer les entiers dans des vecteurs de probabilité. Ceci s'appelle l'encodage one-hot.\n",
    "\n",
    "Exemple :\n",
    "`5` devient` [0, 0, 0, 0, 0, 1, 0, 0, 0, 0] `\n",
    "\n"
   ]
  },
  {
   "cell_type": "code",
   "execution_count": 23,
   "metadata": {
    "id": "nJS9FQCW7hfK"
   },
   "outputs": [],
   "source": [
    "#### Celulle à compléter ####\n",
    "# On commence par changer la structure de X_train. Nous voulons qqch de la forme (N, 28*28)\n",
    "\n",
    "X_train_flattened = X_train.reshape(-1, 28*28)"
   ]
  },
  {
   "cell_type": "code",
   "execution_count": 25,
   "metadata": {
    "id": "sG8pmtDj7k_i"
   },
   "outputs": [
    {
     "data": {
      "text/plain": [
       "(48000, 10)"
      ]
     },
     "execution_count": 25,
     "metadata": {},
     "output_type": "execute_result"
    }
   ],
   "source": [
    "#### Celulle à compléter ####\n",
    "\n",
    "# Appliquons maintenant un encodage one-hot de Y_train\n",
    "\n",
    "\n",
    "# Encodage one hot\n",
    "Y_train_onehot = np.array([[i == Y_train[j] for i in range(10)] for j in range(len(Y_train))])\n",
    "# Y_train_onehot\n",
    "\n",
    "# Visualisons la forme de cette nouvelle matrice\n",
    "\n",
    "Y_train_onehot.shape"
   ]
  },
  {
   "cell_type": "markdown",
   "metadata": {
    "id": "uIAGyn2A756w"
   },
   "source": [
    "Nous sommes presque prêts à entrainer. La dernière chose qui reste est de transformer nos arrays type numpy aux tensor type Pytorch. L'object tensor est un object spécifique à Pytorch, qui permet de faire des calculs spécifiques au Deep Learning de manière parallèlisée, donc très efficace.\n",
    "Vous pouvez trouver plus des détails sur internet : https://pytorch.org/tutorials/beginner/introyt/tensors_deeper_tutorial.html\n",
    "\n",
    "Pour ce qui nous concerne, nous allons manipuler les tensors comme des arrays numpy"
   ]
  },
  {
   "cell_type": "markdown",
   "metadata": {
    "id": "jhZ8A8ER78m1"
   },
   "source": [
    "Maintenant vous allez entrainer votre modèle sur le dataset qui comporte les images (`X_train`) associées à leur label (`Y_train`). Pour cela on utilise la méthode `model.fit(...)`.\n",
    "\n",
    "L'argument epochs correspond au nombre de fois où le dataset est présenté au réseau de neurones. Ici mettez entre 1 et 20 epochs.\n",
    "\n",
    "L'argument validation_data sert à vérifier que votre modèle est bon sur des images qu'il n'a jamais vues (pas utilisées dans l'entrainement), i.e. qu'il n'a pas \"appris\" le dataset par cœur.\n",
    "\n",
    "Documentation : https://www.tensorflow.org/api_docs/python/tf/keras/Model"
   ]
  },
  {
   "cell_type": "code",
   "execution_count": 28,
   "metadata": {
    "id": "Zq2xmPjW8Uki"
   },
   "outputs": [],
   "source": [
    "#### Celulle à compléter ####\n",
    "# Convertissez vos arrays en tensor, verifiez que le type est bien float32\n",
    "\n",
    "X_train_torch = torch.tensor(X_train_flattened, dtype = torch.float32)\n",
    "Y_train_onehot_torch = torch.tensor(Y_train_onehot, dtype = torch.float32)"
   ]
  },
  {
   "cell_type": "code",
   "execution_count": 29,
   "metadata": {
    "id": "dEX1dFz88WNu"
   },
   "outputs": [
    {
     "data": {
      "text/plain": [
       "(torch.float32, torch.float32)"
      ]
     },
     "execution_count": 29,
     "metadata": {},
     "output_type": "execute_result"
    }
   ],
   "source": [
    "# Code de vérification du type de vos tensors\n",
    "\n",
    "Y_train_onehot_torch.dtype, X_train_torch.dtype,"
   ]
  },
  {
   "cell_type": "markdown",
   "metadata": {
    "id": "lOz43OGb8Zv9"
   },
   "source": [
    "###Entraînement : la boucle"
   ]
  },
  {
   "cell_type": "code",
   "execution_count": 30,
   "metadata": {
    "id": "ftL_S1-58d0Q"
   },
   "outputs": [
    {
     "name": "stdout",
     "output_type": "stream",
     "text": [
      "tensor(0.0902, grad_fn=<MseLossBackward0>)\n",
      "tensor(0.0900, grad_fn=<MseLossBackward0>)\n",
      "tensor(0.0899, grad_fn=<MseLossBackward0>)\n",
      "tensor(0.0897, grad_fn=<MseLossBackward0>)\n",
      "tensor(0.0896, grad_fn=<MseLossBackward0>)\n",
      "tensor(0.0894, grad_fn=<MseLossBackward0>)\n",
      "tensor(0.0892, grad_fn=<MseLossBackward0>)\n",
      "tensor(0.0891, grad_fn=<MseLossBackward0>)\n",
      "tensor(0.0889, grad_fn=<MseLossBackward0>)\n",
      "tensor(0.0888, grad_fn=<MseLossBackward0>)\n",
      "tensor(0.0886, grad_fn=<MseLossBackward0>)\n",
      "tensor(0.0884, grad_fn=<MseLossBackward0>)\n",
      "tensor(0.0882, grad_fn=<MseLossBackward0>)\n",
      "tensor(0.0880, grad_fn=<MseLossBackward0>)\n",
      "tensor(0.0878, grad_fn=<MseLossBackward0>)\n",
      "tensor(0.0876, grad_fn=<MseLossBackward0>)\n",
      "tensor(0.0873, grad_fn=<MseLossBackward0>)\n",
      "tensor(0.0871, grad_fn=<MseLossBackward0>)\n",
      "tensor(0.0868, grad_fn=<MseLossBackward0>)\n",
      "tensor(0.0865, grad_fn=<MseLossBackward0>)\n"
     ]
    }
   ],
   "source": [
    "#### Celulle à compléter ####\n",
    "epochs = 20\n",
    "\n",
    "\n",
    "for _ in range(epochs):\n",
    "    outputs = model(X_train_torch) # Calculer les predictions du modèl\n",
    "    loss =  loss_function(outputs, Y_train_onehot_torch)# Calculer la los\n",
    "    print(loss)\n",
    "    optimizer.zero_grad() # Mettre les gradients à \n",
    "    # Faire de la backpropagation\n",
    "    # Appliquer la formule de mise à jour des poids\n",
    "    loss.backward()\n",
    "    optimizer.step()\n",
    "\n"
   ]
  },
  {
   "cell_type": "markdown",
   "metadata": {
    "id": "Ip8QFf-u8ke6"
   },
   "source": [
    "La loss diminue ! C'est encourageant mais vérifions quand même les performances de notre modèle."
   ]
  },
  {
   "cell_type": "markdown",
   "metadata": {
    "id": "oKVKPtVC81Mg"
   },
   "source": [
    "###Evaluation du modèle\n",
    "\n",
    "Il faut qu'on prépare les `X_test`et `Y_test`de la même manière que pour `X_train`et `Y_train`.\n",
    "On va quand même se simplifier un peu la vie : plutôt que de mettre nos labels de test en one-hot, on va traduire les prédictions en entier."
   ]
  },
  {
   "cell_type": "code",
   "execution_count": 31,
   "metadata": {
    "id": "24iDHYQQ9Tgh"
   },
   "outputs": [],
   "source": [
    "#### Celulle à compléter ####\n",
    "\n",
    "# Commencons par le changement de dimension et la transformation en tensor\n",
    "\n",
    "X_test_flatten = X_test.reshape(-1, 28*28)\n",
    "X_test_flatten_torch = torch.tensor(X_test_flatten, dtype = torch.float32)\n",
    "\n"
   ]
  },
  {
   "cell_type": "markdown",
   "metadata": {
    "id": "e1Bct3RT9WBF"
   },
   "source": [
    "Faisons passer `X_test`à travers le réseau et récupérons la sortie"
   ]
  },
  {
   "cell_type": "code",
   "execution_count": 32,
   "metadata": {
    "id": "8sCYcC289c_q"
   },
   "outputs": [
    {
     "data": {
      "text/plain": [
       "torch.Size([12000, 10])"
      ]
     },
     "execution_count": 32,
     "metadata": {},
     "output_type": "execute_result"
    }
   ],
   "source": [
    "outputs = model(X_test_flatten_torch)\n",
    "outputs.shape"
   ]
  },
  {
   "cell_type": "markdown",
   "metadata": {
    "id": "vCAn6m6s9hCs"
   },
   "source": [
    "Transformons maintenant les vecteurs de probabilité en entiers"
   ]
  },
  {
   "cell_type": "code",
   "execution_count": 33,
   "metadata": {
    "id": "uG-XDG0j9lsU"
   },
   "outputs": [],
   "source": [
    "predicted_labels = outputs.argmax(axis=1)"
   ]
  },
  {
   "cell_type": "code",
   "execution_count": 34,
   "metadata": {
    "id": "1YSXtQ0X9ok4"
   },
   "outputs": [
    {
     "name": "stderr",
     "output_type": "stream",
     "text": [
      "/var/folders/s0/qvz5r3t12xs3bp11tpwvg7f80000gn/T/ipykernel_14832/704856222.py:1: DeprecationWarning: __array_wrap__ must accept context and return_scalar arguments (positionally) in the future. (Deprecated NumPy 2.0)\n",
      "  diff = predicted_labels - Y_test\n"
     ]
    },
    {
     "data": {
      "text/plain": [
       "0.3650833333333333"
      ]
     },
     "execution_count": 34,
     "metadata": {},
     "output_type": "execute_result"
    }
   ],
   "source": [
    "diff = predicted_labels - Y_test\n",
    "accuracy = len(diff[diff==0]) / len(diff)\n",
    "accuracy"
   ]
  },
  {
   "cell_type": "markdown",
   "metadata": {
    "id": "Y4Pu7u7C9rbK"
   },
   "source": [
    "##Améliorations possibles\n",
    "\n",
    "Bravo ! Vous avez entrainé votre réseau et évalué votre modèle. Nous allons maintenant essayer d'améliorer un peu votre boucle d'entraînement.\n",
    "\n",
    "D'abord on va entrainer sur plusieurs epochs, donc on veut afficher la loss que périodiqement. Ensuite, il serait intéressant de tracer l'évolution de notre courbe de loss.\n",
    "Finalement, on pourrait aussi evaluer le modèle à chaque fois qu'on calcule la loss pour avoir une idée plus précise de la performance du modèle"
   ]
  },
  {
   "cell_type": "markdown",
   "metadata": {
    "id": "SpSYvF_L95gR"
   },
   "source": [
    "Commençons par les deux premiers points"
   ]
  },
  {
   "cell_type": "code",
   "execution_count": 35,
   "metadata": {
    "id": "_t4mlNGU98q6"
   },
   "outputs": [
    {
     "name": "stdout",
     "output_type": "stream",
     "text": [
      "tensor(0.0862, grad_fn=<MseLossBackward0>)\n",
      "tensor(0.0816, grad_fn=<MseLossBackward0>)\n",
      "tensor(0.0741, grad_fn=<MseLossBackward0>)\n",
      "tensor(0.0654, grad_fn=<MseLossBackward0>)\n",
      "tensor(0.0572, grad_fn=<MseLossBackward0>)\n",
      "Fin de l'entraînement\n"
     ]
    },
    {
     "data": {
      "text/plain": [
       "[<matplotlib.lines.Line2D at 0x147de4810>]"
      ]
     },
     "execution_count": 35,
     "metadata": {},
     "output_type": "execute_result"
    },
    {
     "data": {
      "image/png": "[encoded data removed]",
      "text/plain": [
       "<Figure size 640x480 with 1 Axes>"
      ]
     },
     "metadata": {},
     "output_type": "display_data"
    }
   ],
   "source": [
    "epochs = 50\n",
    "losses = []\n",
    "\n",
    "for i in range(epochs):\n",
    "    outputs = model(X_train_torch) # Calculer les predictions du modèle\n",
    "\n",
    "    loss = loss_function(outputs, Y_train_onehot_torch) # Calculer la loss\n",
    "    losses.append(loss.item())\n",
    "\n",
    "    optimizer.zero_grad() # Mettre les gradients à 0\n",
    "\n",
    "    loss.backward() # Faire de la backpropagation\n",
    "    optimizer.step() # Appliquer la formule de mise à jour des poids\n",
    "\n",
    "    if i % 10 == 0:\n",
    "        print(loss)\n",
    "\n",
    "\n",
    "print(\"Fin de l'entraînement\")\n",
    "plt.plot(losses)\n"
   ]
  },
  {
   "cell_type": "markdown",
   "metadata": {
    "id": "QjpE4bnj-Cd_"
   },
   "source": [
    "Et maintenant, écrivons une fonction `evaluate_model()` qui permet de calculer la précision du modèle (*accuracy*)"
   ]
  },
  {
   "cell_type": "code",
   "execution_count": 36,
   "metadata": {
    "id": "EA5F1T0F-QmG"
   },
   "outputs": [],
   "source": [
    "#### Celulle à compléter ####\n",
    "\n",
    "def evaluate_model(model):\n",
    "    outputs = model(X_test_flatten_torch)\n",
    "    predicted_labels = outputs.argmax(axis=1)\n",
    "    diff = predicted_labels - Y_test\n",
    "    accuracy = len(diff[diff==0]) / len(diff)\n",
    "    return accuracy"
   ]
  },
  {
   "cell_type": "markdown",
   "metadata": {
    "id": "1lamfFES-XC9"
   },
   "source": [
    "Nous avons tous les éléments maintenant pour créer une bonne boucle d'entraînement. Nous allons redéfinir notre modèle pour initialiser nos poids et commencer table rase (Attention à rédefinir l'optimizer parce que\n",
    "nous avons des nouveaus paramètres maintenant):"
   ]
  },
  {
   "cell_type": "code",
   "execution_count": 45,
   "metadata": {
    "id": "y_ccGS4--b3c"
   },
   "outputs": [
    {
     "name": "stdout",
     "output_type": "stream",
     "text": [
      "Début de l'entraînement\n",
      "Epoch 0 | Loss : 0.09014183282852173 | Accuracy : 0.16683333333333333\n"
     ]
    },
    {
     "name": "stderr",
     "output_type": "stream",
     "text": [
      "/var/folders/s0/qvz5r3t12xs3bp11tpwvg7f80000gn/T/ipykernel_14832/2159472816.py:6: DeprecationWarning: __array_wrap__ must accept context and return_scalar arguments (positionally) in the future. (Deprecated NumPy 2.0)\n",
      "  diff = predicted_labels - Y_test\n"
     ]
    },
    {
     "name": "stdout",
     "output_type": "stream",
     "text": [
      "Epoch 100 | Loss : 0.012026137672364712 | Accuracy : 0.92375\n",
      "Epoch 200 | Loss : 0.0071831075474619865 | Accuracy : 0.94875\n",
      "Epoch 300 | Loss : 0.00419960729777813 | Accuracy : 0.9610833333333333\n",
      "Epoch 400 | Loss : 0.002601750660687685 | Accuracy : 0.965\n",
      "Epoch 500 | Loss : 0.0017151354113593698 | Accuracy : 0.96675\n",
      "Epoch 600 | Loss : 0.0012705367989838123 | Accuracy : 0.9666666666666667\n",
      "Epoch 700 | Loss : 0.0010326644405722618 | Accuracy : 0.9673333333333334\n",
      "Epoch 800 | Loss : 0.0008974286611191928 | Accuracy : 0.9665\n",
      "Epoch 900 | Loss : 0.0007957806810736656 | Accuracy : 0.9669166666666666\n",
      "Fin de l'entraînement\n"
     ]
    },
    {
     "data": {
      "text/plain": [
       "[<matplotlib.lines.Line2D at 0x143347510>]"
      ]
     },
     "execution_count": 45,
     "metadata": {},
     "output_type": "execute_result"
    },
    {
     "data": {
      "image/png": "[encoded data removed]",
      "text/plain": [
       "<Figure size 640x480 with 1 Axes>"
      ]
     },
     "metadata": {},
     "output_type": "display_data"
    },
    {
     "data": {
      "image/png": "[encoded data removed]",
      "text/plain": [
       "<Figure size 640x480 with 1 Axes>"
      ]
     },
     "metadata": {},
     "output_type": "display_data"
    }
   ],
   "source": [
    "epochs = 1000\n",
    "losses = []\n",
    "accuracies = []\n",
    "\n",
    "\n",
    "model = nn.Sequential(\n",
    "    nn.Linear(28*28,128),\n",
    "    nn.ReLU(),\n",
    "    nn.Linear(128,128),\n",
    "    nn.ReLU(),\n",
    "    nn.Linear(128,32),\n",
    "    nn.ReLU(),\n",
    "    nn.Linear(32,10),\n",
    "    nn.Softmax(1)\n",
    ")\n",
    "\n",
    "loss_function = nn.MSELoss()\n",
    "optimizer = torch.optim.Adam(model.parameters(), lr=1e-3)\n",
    "\n",
    "print(\"Début de l'entraînement\")\n",
    "\n",
    "for i in range(epochs):\n",
    "    outputs = model(X_train_torch) # Calculer les predictions du modèle\n",
    "\n",
    "    loss = loss_function(outputs, Y_train_onehot_torch) # Calculer la loss\n",
    "    losses.append(loss.item())\n",
    "\n",
    "    optimizer.zero_grad() # Mettre les gradients à 0\n",
    "\n",
    "    loss.backward() # Faire de la backpropagation\n",
    "    optimizer.step() # Appliquer la formule de mise à jour des poids\n",
    "\n",
    "    if i % 100 == 0:\n",
    "        accuracy = evaluate_model(model)\n",
    "        print(f\"Epoch {i} | Loss : {loss} | Accuracy : {accuracy}\")\n",
    "        accuracies.append(accuracy)\n",
    "\n",
    "\n",
    "\n",
    "\n",
    "print(\"Fin de l'entraînement\")\n",
    "plt.plot(losses)\n",
    "plt.figure()\n",
    "plt.plot(accuracies, \"o\", color=\"red\")\n"
   ]
  },
  {
   "cell_type": "markdown",
   "metadata": {
    "id": "tK4wlmTO-hiy"
   },
   "source": [
    "##Dans la littérature, la meilleure accuracy est de 99.87%, à vous de le battre !"
   ]
  },
  {
   "cell_type": "code",
   "execution_count": null,
   "metadata": {
    "id": "aZGW9FAo-1cQ"
   },
   "outputs": [],
   "source": []
  }
 ],
 "metadata": {
  "colab": {
   "provenance": []
  },
  "kernelspec": {
   "display_name": "Python 3",
   "name": "python3"
  },
  "language_info": {
   "codemirror_mode": {
    "name": "ipython",
    "version": 3
   },
   "file_extension": ".py",
   "mimetype": "text/x-python",
   "name": "python",
   "nbconvert_exporter": "python",
   "pygments_lexer": "ipython3",
   "version": "3.11.10"
  }
 },
 "nbformat": 4,
 "nbformat_minor": 0
}
